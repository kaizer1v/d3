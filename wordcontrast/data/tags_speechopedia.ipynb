{
 "cells": [
  {
   "cell_type": "code",
   "execution_count": 1,
   "metadata": {
    "collapsed": true
   },
   "outputs": [],
   "source": [
    "import pandas as pd"
   ]
  },
  {
   "cell_type": "code",
   "execution_count": 2,
   "metadata": {
    "collapsed": true
   },
   "outputs": [],
   "source": [
    "modi = pd.read_excel(\"modi_wc_1000 tags.xlsx\")\n",
    "mms = pd.read_excel(\"mms_wc_1000 tags.xlsx\")"
   ]
  },
  {
   "cell_type": "code",
   "execution_count": 3,
   "metadata": {
    "collapsed": false
   },
   "outputs": [
    {
     "data": {
      "text/html": [
       "<div>\n",
       "<table border=\"1\" class=\"dataframe\">\n",
       "  <thead>\n",
       "    <tr style=\"text-align: right;\">\n",
       "      <th></th>\n",
       "      <th>Word</th>\n",
       "      <th>Count</th>\n",
       "      <th>Tags_check</th>\n",
       "      <th>pm</th>\n",
       "    </tr>\n",
       "  </thead>\n",
       "  <tbody>\n",
       "    <tr>\n",
       "      <th>0</th>\n",
       "      <td>प्रदेश</td>\n",
       "      <td>13770</td>\n",
       "      <td>Governance</td>\n",
       "      <td>modi</td>\n",
       "    </tr>\n",
       "    <tr>\n",
       "      <th>1</th>\n",
       "      <td>उत्तर</td>\n",
       "      <td>13599</td>\n",
       "      <td>Governance</td>\n",
       "      <td>modi</td>\n",
       "    </tr>\n",
       "    <tr>\n",
       "      <th>2</th>\n",
       "      <td>सरकार</td>\n",
       "      <td>11497</td>\n",
       "      <td>Governance</td>\n",
       "      <td>modi</td>\n",
       "    </tr>\n",
       "    <tr>\n",
       "      <th>3</th>\n",
       "      <td>।</td>\n",
       "      <td>9111</td>\n",
       "      <td>Negative list</td>\n",
       "      <td>modi</td>\n",
       "    </tr>\n",
       "    <tr>\n",
       "      <th>4</th>\n",
       "      <td>february</td>\n",
       "      <td>8797</td>\n",
       "      <td>Negative list</td>\n",
       "      <td>modi</td>\n",
       "    </tr>\n",
       "  </tbody>\n",
       "</table>\n",
       "</div>"
      ],
      "text/plain": [
       "       Word  Count     Tags_check    pm\n",
       "0    प्रदेश  13770     Governance  modi\n",
       "1     उत्तर  13599     Governance  modi\n",
       "2     सरकार  11497     Governance  modi\n",
       "3         ।   9111  Negative list  modi\n",
       "4  february   8797  Negative list  modi"
      ]
     },
     "execution_count": 3,
     "metadata": {},
     "output_type": "execute_result"
    }
   ],
   "source": [
    "modi['pm'] = 'modi'\n",
    "modi.head()"
   ]
  },
  {
   "cell_type": "code",
   "execution_count": 4,
   "metadata": {
    "collapsed": false
   },
   "outputs": [
    {
     "data": {
      "text/html": [
       "<div>\n",
       "<table border=\"1\" class=\"dataframe\">\n",
       "  <thead>\n",
       "    <tr style=\"text-align: right;\">\n",
       "      <th></th>\n",
       "      <th>Word</th>\n",
       "      <th>Count</th>\n",
       "      <th>Tags_check</th>\n",
       "      <th>pm</th>\n",
       "    </tr>\n",
       "  </thead>\n",
       "  <tbody>\n",
       "    <tr>\n",
       "      <th>0</th>\n",
       "      <td>development</td>\n",
       "      <td>3827</td>\n",
       "      <td>Policy &amp; Schemes</td>\n",
       "      <td>mms</td>\n",
       "    </tr>\n",
       "    <tr>\n",
       "      <th>1</th>\n",
       "      <td>government</td>\n",
       "      <td>3619</td>\n",
       "      <td>Governance</td>\n",
       "      <td>mms</td>\n",
       "    </tr>\n",
       "    <tr>\n",
       "      <th>2</th>\n",
       "      <td>world</td>\n",
       "      <td>3090</td>\n",
       "      <td>Foreign Relation</td>\n",
       "      <td>mms</td>\n",
       "    </tr>\n",
       "    <tr>\n",
       "      <th>3</th>\n",
       "      <td>economic</td>\n",
       "      <td>2768</td>\n",
       "      <td>Economy</td>\n",
       "      <td>mms</td>\n",
       "    </tr>\n",
       "    <tr>\n",
       "      <th>4</th>\n",
       "      <td>growth</td>\n",
       "      <td>2639</td>\n",
       "      <td>Economy</td>\n",
       "      <td>mms</td>\n",
       "    </tr>\n",
       "  </tbody>\n",
       "</table>\n",
       "</div>"
      ],
      "text/plain": [
       "          Word  Count        Tags_check   pm\n",
       "0  development   3827  Policy & Schemes  mms\n",
       "1   government   3619        Governance  mms\n",
       "2        world   3090  Foreign Relation  mms\n",
       "3     economic   2768           Economy  mms\n",
       "4       growth   2639           Economy  mms"
      ]
     },
     "execution_count": 4,
     "metadata": {},
     "output_type": "execute_result"
    }
   ],
   "source": [
    "mms['pm'] = 'mms'\n",
    "mms.head()"
   ]
  },
  {
   "cell_type": "markdown",
   "metadata": {},
   "source": [
    "### Merge by Words"
   ]
  },
  {
   "cell_type": "code",
   "execution_count": 10,
   "metadata": {
    "collapsed": false
   },
   "outputs": [],
   "source": [
    "words = pd.merge(modi, mms, on=\"Word\", how=\"inner\")"
   ]
  },
  {
   "cell_type": "code",
   "execution_count": 12,
   "metadata": {
    "collapsed": false
   },
   "outputs": [],
   "source": [
    "words[\"diff\"] = words[\"Count_x\"] - words[\"Count_y\"]"
   ]
  },
  {
   "cell_type": "code",
   "execution_count": 21,
   "metadata": {
    "collapsed": false
   },
   "outputs": [
    {
     "data": {
      "text/html": [
       "<div>\n",
       "<table border=\"1\" class=\"dataframe\">\n",
       "  <thead>\n",
       "    <tr style=\"text-align: right;\">\n",
       "      <th></th>\n",
       "      <th>Word</th>\n",
       "      <th>Count</th>\n",
       "      <th>Tags_check</th>\n",
       "      <th>pm</th>\n",
       "    </tr>\n",
       "  </thead>\n",
       "  <tbody>\n",
       "    <tr>\n",
       "      <th>0</th>\n",
       "      <td>development</td>\n",
       "      <td>3827</td>\n",
       "      <td>Policy &amp; Schemes</td>\n",
       "      <td>mms</td>\n",
       "    </tr>\n",
       "  </tbody>\n",
       "</table>\n",
       "</div>"
      ],
      "text/plain": [
       "          Word  Count        Tags_check   pm\n",
       "0  development   3827  Policy & Schemes  mms"
      ]
     },
     "execution_count": 21,
     "metadata": {},
     "output_type": "execute_result"
    }
   ],
   "source": [
    "# modi[modi[\"Word\"] == \"singh\"]\n",
    "mms[mms[\"Word\"] == \"development\"]"
   ]
  },
  {
   "cell_type": "code",
   "execution_count": 15,
   "metadata": {
    "collapsed": false
   },
   "outputs": [
    {
     "data": {
      "text/html": [
       "<div>\n",
       "<table border=\"1\" class=\"dataframe\">\n",
       "  <thead>\n",
       "    <tr style=\"text-align: right;\">\n",
       "      <th></th>\n",
       "      <th>Word</th>\n",
       "      <th>Count_x</th>\n",
       "      <th>Tags_check_x</th>\n",
       "      <th>pm_x</th>\n",
       "      <th>Count_y</th>\n",
       "      <th>Tags_check_y</th>\n",
       "      <th>pm_y</th>\n",
       "      <th>diff</th>\n",
       "    </tr>\n",
       "  </thead>\n",
       "  <tbody>\n",
       "    <tr>\n",
       "      <th>0</th>\n",
       "      <td>world</td>\n",
       "      <td>1927</td>\n",
       "      <td>Foreign Relation</td>\n",
       "      <td>modi</td>\n",
       "      <td>3090</td>\n",
       "      <td>Foreign Relation</td>\n",
       "      <td>mms</td>\n",
       "      <td>-1163</td>\n",
       "    </tr>\n",
       "    <tr>\n",
       "      <th>1</th>\n",
       "      <td>government</td>\n",
       "      <td>1909</td>\n",
       "      <td>Governance</td>\n",
       "      <td>modi</td>\n",
       "      <td>3619</td>\n",
       "      <td>Governance</td>\n",
       "      <td>mms</td>\n",
       "      <td>-1710</td>\n",
       "    </tr>\n",
       "    <tr>\n",
       "      <th>2</th>\n",
       "      <td>development</td>\n",
       "      <td>1285</td>\n",
       "      <td>Policy &amp; Schemes</td>\n",
       "      <td>modi</td>\n",
       "      <td>3827</td>\n",
       "      <td>Policy &amp; Schemes</td>\n",
       "      <td>mms</td>\n",
       "      <td>-2542</td>\n",
       "    </tr>\n",
       "    <tr>\n",
       "      <th>3</th>\n",
       "      <td>cooperation</td>\n",
       "      <td>1201</td>\n",
       "      <td>Economy</td>\n",
       "      <td>modi</td>\n",
       "      <td>1509</td>\n",
       "      <td>Economy</td>\n",
       "      <td>mms</td>\n",
       "      <td>-308</td>\n",
       "    </tr>\n",
       "    <tr>\n",
       "      <th>4</th>\n",
       "      <td>today</td>\n",
       "      <td>1178</td>\n",
       "      <td>Elections</td>\n",
       "      <td>modi</td>\n",
       "      <td>2389</td>\n",
       "      <td>Negative list</td>\n",
       "      <td>mms</td>\n",
       "      <td>-1211</td>\n",
       "    </tr>\n",
       "  </tbody>\n",
       "</table>\n",
       "</div>"
      ],
      "text/plain": [
       "          Word  Count_x      Tags_check_x  pm_x  Count_y      Tags_check_y  \\\n",
       "0        world     1927  Foreign Relation  modi     3090  Foreign Relation   \n",
       "1   government     1909        Governance  modi     3619        Governance   \n",
       "2  development     1285  Policy & Schemes  modi     3827  Policy & Schemes   \n",
       "3  cooperation     1201           Economy  modi     1509           Economy   \n",
       "4        today     1178         Elections  modi     2389     Negative list   \n",
       "\n",
       "  pm_y  diff  \n",
       "0  mms -1163  \n",
       "1  mms -1710  \n",
       "2  mms -2542  \n",
       "3  mms  -308  \n",
       "4  mms -1211  "
      ]
     },
     "execution_count": 15,
     "metadata": {},
     "output_type": "execute_result"
    }
   ],
   "source": [
    "words.head()"
   ]
  },
  {
   "cell_type": "markdown",
   "metadata": {},
   "source": [
    "### Groupby Tags"
   ]
  },
  {
   "cell_type": "code",
   "execution_count": 20,
   "metadata": {
    "collapsed": false
   },
   "outputs": [],
   "source": [
    "tags_count_modi = modi.groupby('Tags_check').sum().reset_index().rename(columns={\"Count\": \"modi_count\"})\n",
    "tags_count_mms = mms.groupby('Tags_check').sum().reset_index().rename(columns={\"Count\": \"mms_count\"})"
   ]
  },
  {
   "cell_type": "code",
   "execution_count": 22,
   "metadata": {
    "collapsed": false
   },
   "outputs": [],
   "source": [
    "tags_count = pd.merge(tags_count_modi, tags_count_mms)\n",
    "tags_count[\"diff\"] = tags_count[\"modi_count\"] - tags_count[\"mms_count\"]"
   ]
  },
  {
   "cell_type": "code",
   "execution_count": 25,
   "metadata": {
    "collapsed": false
   },
   "outputs": [
    {
     "data": {
      "text/plain": [
       "'[{\"Tags_check\":\"Corruption\",\"modi_count\":16048,\"mms_count\":2263,\"diff\":13785},{\"Tags_check\":\"Digitalisation & Technology\",\"modi_count\":12222,\"mms_count\":5694,\"diff\":6528},{\"Tags_check\":\"Economy\",\"modi_count\":79726,\"mms_count\":49310,\"diff\":30416},{\"Tags_check\":\"Education & Employement\",\"modi_count\":20455,\"mms_count\":24346,\"diff\":-3891},{\"Tags_check\":\"Elections\",\"modi_count\":38812,\"mms_count\":16451,\"diff\":22361},{\"Tags_check\":\"Emotion\",\"modi_count\":29108,\"mms_count\":7670,\"diff\":21438},{\"Tags_check\":\"Farmer Welfare\",\"modi_count\":15496,\"mms_count\":5640,\"diff\":9856},{\"Tags_check\":\"Foreign Relation\",\"modi_count\":30266,\"mms_count\":29513,\"diff\":753},{\"Tags_check\":\"Governance\",\"modi_count\":139644,\"mms_count\":112908,\"diff\":26736},{\"Tags_check\":\"Human Welfare & Healthcare\",\"modi_count\":37954,\"mms_count\":26420,\"diff\":11534},{\"Tags_check\":\"Infrastructure & Utilities\",\"modi_count\":30041,\"mms_count\":37869,\"diff\":-7828},{\"Tags_check\":\"Negative list\",\"modi_count\":128333,\"mms_count\":25740,\"diff\":102593},{\"Tags_check\":\"Policy & Schemes\",\"modi_count\":28435,\"mms_count\":23872,\"diff\":4563},{\"Tags_check\":\"Safety & Security\",\"modi_count\":25205,\"mms_count\":26303,\"diff\":-1098}]'"
      ]
     },
     "execution_count": 25,
     "metadata": {},
     "output_type": "execute_result"
    }
   ],
   "source": [
    "tags_count.to_json(orient=\"records\")"
   ]
  },
  {
   "cell_type": "code",
   "execution_count": null,
   "metadata": {
    "collapsed": true
   },
   "outputs": [],
   "source": []
  }
 ],
 "metadata": {
  "anaconda-cloud": {},
  "kernelspec": {
   "display_name": "Python [conda root]",
   "language": "python",
   "name": "conda-root-py"
  },
  "language_info": {
   "codemirror_mode": {
    "name": "ipython",
    "version": 2
   },
   "file_extension": ".py",
   "mimetype": "text/x-python",
   "name": "python",
   "nbconvert_exporter": "python",
   "pygments_lexer": "ipython2",
   "version": "2.7.12"
  }
 },
 "nbformat": 4,
 "nbformat_minor": 1
}
